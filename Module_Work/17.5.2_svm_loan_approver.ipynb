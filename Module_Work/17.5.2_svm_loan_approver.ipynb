{
 "cells": [
  {
   "cell_type": "markdown",
   "id": "1baa23b8",
   "metadata": {},
   "source": [
    "# SVM Loan Approver\n",
    "\n",
    "There are a number of classification algorithms that can be used to determine loan elgibility. Some algorithms run better than others. Build a loan approver using the SVM algorithm and compare the accuracy and performance of the SVM model with the Logistic Regression model.\n",
    "\n"
   ]
  },
  {
   "cell_type": "code",
   "execution_count": null,
   "id": "af4ac590",
   "metadata": {},
   "outputs": [],
   "source": [
    "#17.5.2 SVM in Practice\n",
    "from path import Path\n",
    "import numpy as np\n",
    "import pandas as pd"
   ]
  },
  {
   "cell_type": "code",
   "execution_count": null,
   "id": "5d69cc50",
   "metadata": {},
   "outputs": [],
   "source": [
    "df = pd.read_csv(Path('./Resources/loans.csv'))\n",
    "df.head()\n",
    "\n",
    "# # Read in the data\n",
    "# # Note: The following data has been normalized between 0 and 1\n",
    "# data = Path('../Resources/loans.csv')\n",
    "# df = pd.read_csv(data)\n",
    "# df.head()"
   ]
  },
  {
   "cell_type": "markdown",
   "id": "fd8c6d79",
   "metadata": {},
   "source": [
    "# Separate the Features (X) from the Target (y)"
   ]
  },
  {
   "cell_type": "code",
   "execution_count": null,
   "id": "37eca1e9",
   "metadata": {},
   "outputs": [],
   "source": [
    "# Segment the features from the target\n",
    "y = df[\"status\"]\n",
    "X = df.drop(columns=\"status\")"
   ]
  },
  {
   "cell_type": "markdown",
   "id": "970fcc48",
   "metadata": {},
   "source": [
    "# Split our data into training and testing"
   ]
  },
  {
   "cell_type": "code",
   "execution_count": null,
   "id": "d079b96d",
   "metadata": {},
   "outputs": [],
   "source": [
    "# Use the train_test_split function to create training and testing subsets\n",
    "from sklearn.model_selection import train_test_split\n",
    "\n",
    "X_train, X_test, y_train, y_test = train_test_split(X, \n",
    "                                                    y, \n",
    "                                                    random_state=1, \n",
    "                                                    stratify=y)\n",
    "X_train.shape"
   ]
  },
  {
   "cell_type": "markdown",
   "id": "4b1f2395",
   "metadata": {},
   "source": [
    "# Create a SVM Model"
   ]
  },
  {
   "cell_type": "code",
   "execution_count": null,
   "id": "c21af90b",
   "metadata": {},
   "outputs": [],
   "source": [
    "# Instantiate a linear SVM model\n",
    "from sklearn.svm import SVC\n",
    "model = SVC(kernel='linear')"
   ]
  },
  {
   "cell_type": "markdown",
   "id": "31ee07ac",
   "metadata": {},
   "source": [
    "# Fit (train) or model using the training data"
   ]
  },
  {
   "cell_type": "code",
   "execution_count": null,
   "id": "90ab14f8",
   "metadata": {},
   "outputs": [],
   "source": [
    "# Fit the data\n",
    "model.fit(X_train, y_train)\n"
   ]
  },
  {
   "cell_type": "markdown",
   "id": "2fcdcd1c",
   "metadata": {},
   "source": [
    "# Score the model using the test data\n",
    "\n",
    "\n",
    "# Make predictions\n"
   ]
  },
  {
   "cell_type": "code",
   "execution_count": null,
   "id": "ebd091e7",
   "metadata": {},
   "outputs": [],
   "source": [
    "# Make predictions using the test data\n",
    "y_pred = model.predict(X_test)\n",
    "results = pd.DataFrame({\n",
    "    \"Prediction\": y_pred, \n",
    "    \"Actual\": y_test\n",
    "}).reset_index(drop=True)\n",
    "results.head()"
   ]
  },
  {
   "cell_type": "code",
   "execution_count": null,
   "id": "244c555f",
   "metadata": {},
   "outputs": [],
   "source": [
    "from sklearn.metrics import accuracy_score\n",
    "accuracy_score(y_test, y_pred)"
   ]
  },
  {
   "cell_type": "markdown",
   "id": "a9ea2f54",
   "metadata": {},
   "source": [
    "# Generate Confusion Matrix\n"
   ]
  },
  {
   "cell_type": "code",
   "execution_count": null,
   "id": "3467a876",
   "metadata": {},
   "outputs": [],
   "source": [
    "    from sklearn.metrics import confusion_matrix\n",
    "    confusion_matrix(y_test, y_pred)"
   ]
  },
  {
   "cell_type": "markdown",
   "id": "3bf93b6e",
   "metadata": {},
   "source": [
    "# Generate Classification Report\n"
   ]
  },
  {
   "cell_type": "code",
   "execution_count": null,
   "id": "d9c26484",
   "metadata": {},
   "outputs": [],
   "source": [
    "from sklearn.metrics import classification_report\n",
    "print(classification_report(y_test, y_pred))"
   ]
  },
  {
   "cell_type": "code",
   "execution_count": null,
   "id": "812ff0ed",
   "metadata": {},
   "outputs": [],
   "source": [
    "\n",
    "#17.5.2 script"
   ]
  },
  {
   "cell_type": "code",
   "execution_count": null,
   "id": "dca7bf3c",
   "metadata": {},
   "outputs": [],
   "source": [
    "y = df[\"status\"]\n",
    "X = df.drop(columns=\"status\")"
   ]
  },
  {
   "cell_type": "code",
   "execution_count": null,
   "id": "6f381460",
   "metadata": {},
   "outputs": [],
   "source": [
    "from sklearn.model_selection import train_test_split\n",
    "X_train, X_test, y_train, y_test = train_test_split(X,\n",
    "   y,  random_state=1, stratify=y)\n",
    "X_train.shape"
   ]
  },
  {
   "cell_type": "code",
   "execution_count": null,
   "id": "4921a63d",
   "metadata": {},
   "outputs": [],
   "source": [
    "from sklearn.svm import SVC\n",
    "model = SVC(kernel='linear')"
   ]
  },
  {
   "cell_type": "code",
   "execution_count": null,
   "id": "03086087",
   "metadata": {},
   "outputs": [],
   "source": [
    "model.fit(X_train, y_train)"
   ]
  },
  {
   "cell_type": "code",
   "execution_count": null,
   "id": "2ef0a732",
   "metadata": {},
   "outputs": [],
   "source": [
    "y_pred = model.predict(X_test)\n",
    "results = pd.DataFrame({\n",
    "   \"Prediction\": y_pred,\n",
    "   \"Actual\": y_test\n",
    "}).reset_index(drop=True)\n",
    "results.head()"
   ]
  },
  {
   "cell_type": "code",
   "execution_count": null,
   "id": "3f98dcd4",
   "metadata": {},
   "outputs": [],
   "source": [
    "from sklearn.metrics import accuracy_score\n",
    "accuracy_score(y_test, y_pred)"
   ]
  },
  {
   "cell_type": "code",
   "execution_count": null,
   "id": "77e1dae6",
   "metadata": {},
   "outputs": [],
   "source": [
    "from sklearn.metrics import confusion_matrix\n",
    "confusion_matrix(y_test, y_pred)\n",
    "\n",
    "from sklearn.metrics import classification_report\n",
    "print(classification_report(y_test, y_pred))"
   ]
  },
  {
   "cell_type": "code",
   "execution_count": null,
   "id": "8a71b1b5",
   "metadata": {},
   "outputs": [],
   "source": [
    "# Skill Drill the logistics model was .78 precision and this one is .58 precision, which means the logistics model is more reliable. "
   ]
  },
  {
   "cell_type": "code",
   "execution_count": null,
   "id": "7e9b1314",
   "metadata": {},
   "outputs": [],
   "source": []
  },
  {
   "cell_type": "code",
   "execution_count": null,
   "id": "0850601d",
   "metadata": {},
   "outputs": [],
   "source": []
  },
  {
   "cell_type": "code",
   "execution_count": null,
   "id": "603e1f1c",
   "metadata": {},
   "outputs": [],
   "source": []
  }
 ],
 "metadata": {
  "kernelspec": {
   "display_name": "Python 3 (ipykernel)",
   "language": "python",
   "name": "python3"
  },
  "language_info": {
   "codemirror_mode": {
    "name": "ipython",
    "version": 3
   },
   "file_extension": ".py",
   "mimetype": "text/x-python",
   "name": "python",
   "nbconvert_exporter": "python",
   "pygments_lexer": "ipython3",
   "version": "3.7.11"
  }
 },
 "nbformat": 4,
 "nbformat_minor": 5
}
