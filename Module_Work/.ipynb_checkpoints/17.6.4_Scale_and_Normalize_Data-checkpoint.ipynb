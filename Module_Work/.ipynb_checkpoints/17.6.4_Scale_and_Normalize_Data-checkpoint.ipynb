{
 "cells": [
  {
   "cell_type": "code",
   "execution_count": null,
   "id": "c588a085",
   "metadata": {},
   "outputs": [],
   "source": [
    "#17.6.4 Scale and Normalize Data\n",
    "import pandas as pd\n",
    "from path import Path\n",
    "\n",
    "file_path = Path(\"./Resources/loans_data_encoded.csv\")\n",
    "encoded_df = pd.read_csv(file_path)\n",
    "encoded_df.head()"
   ]
  },
  {
   "cell_type": "code",
   "execution_count": null,
   "id": "bf246e49",
   "metadata": {},
   "outputs": [],
   "source": [
    "from sklearn.preprocessing import StandardScaler\n",
    "data_scaler = StandardScaler()"
   ]
  },
  {
   "cell_type": "code",
   "execution_count": null,
   "id": "f652c198",
   "metadata": {},
   "outputs": [],
   "source": [
    "loans_data_scaled = data_scaler.fit_transform(encoded_df)\n"
   ]
  },
  {
   "cell_type": "code",
   "execution_count": null,
   "id": "cfea0500",
   "metadata": {},
   "outputs": [],
   "source": [
    "loans_data_scaled[:5]\n"
   ]
  },
  {
   "cell_type": "code",
   "execution_count": null,
   "id": "f27920e3",
   "metadata": {},
   "outputs": [],
   "source": [
    "import numpy as np\n",
    "print(np.mean(loans_data_scaled[:,0]))\n",
    "print(np.std(loans_data_scaled[:,0]))"
   ]
  },
  {
   "cell_type": "code",
   "execution_count": null,
   "id": "695a52ef",
   "metadata": {},
   "outputs": [],
   "source": [
    "# Skipped Skill Drill 17.6.4 \n",
    "# loans_data_scaled.shape returns (500, 11), indicating that there are 500 rows and 11 columns. \n",
    "# Create a for loop to verify that all columns of the dataset have been standardized."
   ]
  },
  {
   "cell_type": "code",
   "execution_count": null,
   "id": "083c93e9",
   "metadata": {},
   "outputs": [],
   "source": []
  },
  {
   "cell_type": "code",
   "execution_count": null,
   "id": "fb173511",
   "metadata": {},
   "outputs": [],
   "source": []
  }
 ],
 "metadata": {
  "kernelspec": {
   "display_name": "Python 3 (ipykernel)",
   "language": "python",
   "name": "python3"
  },
  "language_info": {
   "codemirror_mode": {
    "name": "ipython",
    "version": 3
   },
   "file_extension": ".py",
   "mimetype": "text/x-python",
   "name": "python",
   "nbconvert_exporter": "python",
   "pygments_lexer": "ipython3",
   "version": "3.7.11"
  }
 },
 "nbformat": 4,
 "nbformat_minor": 5
}
