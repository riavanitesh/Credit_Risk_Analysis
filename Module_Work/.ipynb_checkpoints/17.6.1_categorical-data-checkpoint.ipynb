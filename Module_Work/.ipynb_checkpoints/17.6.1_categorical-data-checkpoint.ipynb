{
 "cells": [
  {
   "cell_type": "markdown",
   "id": "2976deae",
   "metadata": {},
   "source": [
    "# Instructor Do: Dealing with Categorical Data in ML\n",
    "\n",
    "## 17.6.1 Encode Labels With Pandas\n"
   ]
  },
  {
   "cell_type": "code",
   "execution_count": null,
   "id": "211ba932",
   "metadata": {},
   "outputs": [],
   "source": [
    "# initial imports\n",
    "import pandas as pd\n",
    "from path import Path"
   ]
  },
  {
   "cell_type": "markdown",
   "id": "51e3a57a",
   "metadata": {},
   "source": [
    "# Dataset Information\n",
    "\n",
    "The file loans_data.csv, contains simulated data about loans, there are a total of 500 records. Each row represents a loan application along an arbitrary year, where every column represents the following data about every loan application.\n",
    "\n",
    "    1. amount: The loan amount in USD.\n",
    "    2. term: The loan term in months.\n",
    "    3. month: The month of the year when the loan was requested.\n",
    "    4. age: Age of the loan applicant.\n",
    "    5. education: Educational level of the loan applicant.\n",
    "    6. gender: Gender of the loan applicant.\n",
    "    7. bad: Stands for a bad or good loan applicant (1 - bad, 0 - good).\n"
   ]
  },
  {
   "cell_type": "code",
   "execution_count": null,
   "id": "11275444",
   "metadata": {},
   "outputs": [],
   "source": [
    "# Load data\n",
    "file_path = Path(\"./Resources/loans_data.csv\")\n",
    "loans_df = pd.read_csv(file_path)\n",
    "loans_df.head()"
   ]
  },
  {
   "cell_type": "code",
   "execution_count": null,
   "id": "0325c1f0",
   "metadata": {},
   "outputs": [],
   "source": [
    "# Binary encoding using Pandas (single column)\n",
    "loans_binary_encoded = pd.get_dummies(loans_df, columns=[\"gender\"])\n",
    "loans_binary_encoded.head()"
   ]
  },
  {
   "cell_type": "code",
   "execution_count": null,
   "id": "6eb9e0c6",
   "metadata": {},
   "outputs": [],
   "source": [
    "# Binary encoding using Pandas (multiple columns)\n",
    "loans_binary_encoded = pd.get_dummies(loans_df, columns=[\"education\", \"gender\"])\n",
    "loans_binary_encoded.head()"
   ]
  },
  {
   "cell_type": "code",
   "execution_count": null,
   "id": "03026d38",
   "metadata": {},
   "outputs": [],
   "source": [
    "from sklearn.preprocessing import LabelEncoder\n",
    "le = LabelEncoder()\n",
    "df2 = loans_df.copy()\n",
    "df2['education'] = le.fit_transform(df2['education']) \n",
    "df2.head()"
   ]
  },
  {
   "cell_type": "markdown",
   "id": "b9ce2e2f",
   "metadata": {},
   "source": [
    "# Integer Encoding\n"
   ]
  },
  {
   "cell_type": "code",
   "execution_count": null,
   "id": "23f46823",
   "metadata": {},
   "outputs": [],
   "source": [
    "from sklearn.preprocessing import LabelEncoder\n",
    "le = LabelEncoder()\n",
    "df2 = loans_df.copy()\n",
    "df2['education'] = le.fit_transform(df2['education'])"
   ]
  },
  {
   "cell_type": "code",
   "execution_count": null,
   "id": "db3d15fc",
   "metadata": {},
   "outputs": [],
   "source": [
    "df2.head()"
   ]
  },
  {
   "cell_type": "markdown",
   "id": "9a93e9cc",
   "metadata": {},
   "source": [
    "# Custom Encoding"
   ]
  },
  {
   "cell_type": "code",
   "execution_count": null,
   "id": "f66fd29f",
   "metadata": {},
   "outputs": [],
   "source": [
    "# Creating an instance of label encoder\n",
    "label_encoder = LabelEncoder()\n",
    "loans_df[\"month_le\"] = label_encoder.fit_transform(loans_df[\"month\"])\n",
    "loans_df.head()"
   ]
  },
  {
   "cell_type": "code",
   "execution_count": null,
   "id": "7e3a34f2",
   "metadata": {},
   "outputs": [],
   "source": [
    "# Months dictionary\n",
    "months_num = {\n",
    "    \"January\": 1,\n",
    "    \"February\": 2,\n",
    "    \"March\": 3,\n",
    "    \"April\": 4,\n",
    "    \"May\": 5,\n",
    "    \"June\": 6,\n",
    "    \"July\": 7,\n",
    "    \"August\": 8,\n",
    "    \"September\": 9,\n",
    "    \"October\": 10,\n",
    "    \"November\": 11,\n",
    "    \"December\": 12,\n",
    "}\n"
   ]
  },
  {
   "cell_type": "code",
   "execution_count": null,
   "id": "a593872b",
   "metadata": {},
   "outputs": [],
   "source": [
    "# Months' names encoded using the dictionary values\n",
    "loans_df[\"month_num\"] = loans_df[\"month\"].apply(lambda x: months_num[x])\n",
    "loans_df.head()\n"
   ]
  },
  {
   "cell_type": "code",
   "execution_count": null,
   "id": "573fb9d7",
   "metadata": {},
   "outputs": [],
   "source": [
    "# Drop the month and month_le columns\n",
    "loans_df = loans_df.drop([\"month\", \"month_le\"], axis=1)\n",
    "loans_df.head()\n"
   ]
  },
  {
   "cell_type": "markdown",
   "id": "5008d0f0",
   "metadata": {},
   "source": [
    "# 17.6.1 Scripts"
   ]
  },
  {
   "cell_type": "code",
   "execution_count": null,
   "id": "ff4855b0",
   "metadata": {},
   "outputs": [],
   "source": [
    "#17.6.1 Scripts\n",
    "loans_binary_encoded = pd.get_dummies(loans_df, columns=[\"gender\"])\n",
    "loans_binary_encoded.head()"
   ]
  },
  {
   "cell_type": "code",
   "execution_count": null,
   "id": "c4527335",
   "metadata": {},
   "outputs": [],
   "source": [
    "loans_binary_encoded = pd.get_dummies(loans_df, columns=[\"education\", \"gender\"])\n",
    "loans_binary_encoded.head()"
   ]
  },
  {
   "cell_type": "markdown",
   "id": "85bbdcc1",
   "metadata": {},
   "source": [
    "# 17.6.2 Encode Labels With Scikit-learn (shift tab pulls up definition)"
   ]
  },
  {
   "cell_type": "code",
   "execution_count": null,
   "id": "2c755925",
   "metadata": {},
   "outputs": [],
   "source": [
    "from sklearn.preprocessing import LabelEncoder\n",
    "le = LabelEncoder()\n",
    "df2 = loans_df.copy()\n",
    "df2['education'] = le.fit_transform(df2['education'])\n",
    "df2.head()"
   ]
  },
  {
   "cell_type": "markdown",
   "id": "ff39d1c6",
   "metadata": {},
   "source": [
    "# Skill Drill 17.6.2 - switched gender, but can't figure out how to do it with education"
   ]
  },
  {
   "cell_type": "code",
   "execution_count": null,
   "id": "1812e5f7",
   "metadata": {},
   "outputs": [],
   "source": [
    "df3 = df2.copy()\n",
    "df3['gender'] = le.fit_transform(df3['gender'])\n",
    "df3.head()"
   ]
  },
  {
   "cell_type": "code",
   "execution_count": null,
   "id": "6149c54c",
   "metadata": {},
   "outputs": [],
   "source": [
    "# copy wasn't needed if you want to keep the same dataframe name (could append the transform as a different method)\n",
    "# df2['gender'] = le.fit_transform(df2['gender'])\n",
    "# df2.head()"
   ]
  },
  {
   "cell_type": "code",
   "execution_count": null,
   "id": "27f54529",
   "metadata": {},
   "outputs": [],
   "source": [
    "# append origianl columns and then do distinct values from pandas df on certian column for a legend\n"
   ]
  },
  {
   "cell_type": "code",
   "execution_count": null,
   "id": "7b2feffe",
   "metadata": {},
   "outputs": [],
   "source": [
    "# Load data\n",
    "file_path = Path(\"./Resources/loans_data.csv\")\n",
    "loans_df = pd.read_csv(file_path)\n",
    "loans_df.head()"
   ]
  },
  {
   "cell_type": "code",
   "execution_count": null,
   "id": "e0fcb06f",
   "metadata": {},
   "outputs": [],
   "source": [
    "months_num = {\n",
    "   \"January\": 1,\n",
    "   \"February\": 2,\n",
    "   \"March\": 3,\n",
    "   \"April\": 4,\n",
    "   \"May\": 5,\n",
    "   \"June\": 6,\n",
    "   \"July\": 7,\n",
    "   \"August\": 8,\n",
    "   \"September\": 9,\n",
    "   \"October\": 10,\n",
    "   \"November\": 11,\n",
    "   \"December\": 12,\n",
    "}\n"
   ]
  },
  {
   "cell_type": "code",
   "execution_count": null,
   "id": "fa5e90b9",
   "metadata": {},
   "outputs": [],
   "source": [
    "loans_df[\"month_num\"] = loans_df[\"month\"].apply(lambda x: months_num[x])\n",
    "loans_df.head()"
   ]
  },
  {
   "cell_type": "code",
   "execution_count": null,
   "id": "880e6f07",
   "metadata": {},
   "outputs": [],
   "source": [
    "# Creating an instance of label encoder\n",
    "label_encoder = LabelEncoder()\n",
    "loans_df[\"month_le\"] = label_encoder.fit_transform(loans_df[\"month\"])\n",
    "loans_df.head()\n"
   ]
  },
  {
   "cell_type": "code",
   "execution_count": null,
   "id": "a5df5916",
   "metadata": {},
   "outputs": [],
   "source": [
    "loans_df = loans_df.drop([\"month\", \"month_le\"], axis=1)\n",
    "loans_df.head()"
   ]
  },
  {
   "cell_type": "code",
   "execution_count": null,
   "id": "425b198a",
   "metadata": {},
   "outputs": [],
   "source": [
    "## Skipped Skill Drill 17.6.3 \n",
    "# Create a new Jupyter Notebook and open loans_data.csv as a Pandas DataFrame. \n",
    "# Encode the following labels of the dataset: month, education, and gender. \n",
    "# Then save your DataFrame as loans_data_encoded.csv.\n",
    "# 11 columns ex one column is male 1, 0 and one for female 1, 0\n"
   ]
  },
  {
   "cell_type": "code",
   "execution_count": null,
   "id": "f5390d63",
   "metadata": {},
   "outputs": [],
   "source": []
  },
  {
   "cell_type": "code",
   "execution_count": null,
   "id": "e7696e56",
   "metadata": {},
   "outputs": [],
   "source": []
  },
  {
   "cell_type": "code",
   "execution_count": null,
   "id": "b5061f3f",
   "metadata": {},
   "outputs": [],
   "source": []
  },
  {
   "cell_type": "code",
   "execution_count": null,
   "id": "bb534ed1",
   "metadata": {},
   "outputs": [],
   "source": []
  },
  {
   "cell_type": "code",
   "execution_count": null,
   "id": "86e87d3e",
   "metadata": {},
   "outputs": [],
   "source": []
  },
  {
   "cell_type": "code",
   "execution_count": null,
   "id": "3bca9b61",
   "metadata": {},
   "outputs": [],
   "source": []
  },
  {
   "cell_type": "code",
   "execution_count": null,
   "id": "be6c40fc",
   "metadata": {},
   "outputs": [],
   "source": []
  },
  {
   "cell_type": "code",
   "execution_count": null,
   "id": "f2e98ffc",
   "metadata": {},
   "outputs": [],
   "source": []
  },
  {
   "cell_type": "code",
   "execution_count": null,
   "id": "0caa4f55",
   "metadata": {},
   "outputs": [],
   "source": []
  },
  {
   "cell_type": "code",
   "execution_count": null,
   "id": "8a6dd232",
   "metadata": {},
   "outputs": [],
   "source": []
  }
 ],
 "metadata": {
  "kernelspec": {
   "display_name": "Python 3 (ipykernel)",
   "language": "python",
   "name": "python3"
  },
  "language_info": {
   "codemirror_mode": {
    "name": "ipython",
    "version": 3
   },
   "file_extension": ".py",
   "mimetype": "text/x-python",
   "name": "python",
   "nbconvert_exporter": "python",
   "pygments_lexer": "ipython3",
   "version": "3.7.11"
  }
 },
 "nbformat": 4,
 "nbformat_minor": 5
}
