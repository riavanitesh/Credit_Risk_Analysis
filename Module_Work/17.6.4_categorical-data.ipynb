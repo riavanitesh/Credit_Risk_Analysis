{
 "cells": [
  {
   "cell_type": "code",
   "execution_count": null,
   "id": "67d45ad5",
   "metadata": {},
   "outputs": [],
   "source": [
    "#17.6.4 download\n",
    "# initial imports\n",
    "import pandas as pd\n",
    "from path import Path"
   ]
  },
  {
   "cell_type": "code",
   "execution_count": null,
   "id": "018231ad",
   "metadata": {},
   "outputs": [],
   "source": [
    "# Load data\n",
    "file_path = Path(\"./Resources/loans_data_encoded.csv\")\n",
    "encoded_df = pd.read_csv(file_path)\n",
    "encoded_df.head()"
   ]
  },
  {
   "cell_type": "markdown",
   "id": "d96b05ad",
   "metadata": {},
   "source": [
    "# Scaling Data"
   ]
  },
  {
   "cell_type": "code",
   "execution_count": null,
   "id": "e9617907",
   "metadata": {},
   "outputs": [],
   "source": [
    "# Creating the scaler instance\n",
    "from sklearn.preprocessing import StandardScaler\n",
    "data_scaler = StandardScaler()"
   ]
  },
  {
   "cell_type": "code",
   "execution_count": null,
   "id": "b87344ed",
   "metadata": {},
   "outputs": [],
   "source": [
    "# Fitting the scaler\n",
    "loans_data_scaled = data_scaler.fit_transform(encoded_df)\n",
    "loans_data_scaled[:5]"
   ]
  },
  {
   "cell_type": "code",
   "execution_count": null,
   "id": "8dff112e",
   "metadata": {},
   "outputs": [],
   "source": [
    "import numpy as np\n",
    "print(np.mean(loans_data_scaled[:,0]))\n",
    "print(np.std(loans_data_scaled[:,0]))"
   ]
  },
  {
   "cell_type": "code",
   "execution_count": null,
   "id": "74366ded",
   "metadata": {},
   "outputs": [],
   "source": []
  },
  {
   "cell_type": "code",
   "execution_count": null,
   "id": "5d405680",
   "metadata": {},
   "outputs": [],
   "source": []
  }
 ],
 "metadata": {
  "kernelspec": {
   "display_name": "Python 3 (ipykernel)",
   "language": "python",
   "name": "python3"
  },
  "language_info": {
   "codemirror_mode": {
    "name": "ipython",
    "version": 3
   },
   "file_extension": ".py",
   "mimetype": "text/x-python",
   "name": "python",
   "nbconvert_exporter": "python",
   "pygments_lexer": "ipython3",
   "version": "3.7.11"
  }
 },
 "nbformat": 4,
 "nbformat_minor": 5
}
