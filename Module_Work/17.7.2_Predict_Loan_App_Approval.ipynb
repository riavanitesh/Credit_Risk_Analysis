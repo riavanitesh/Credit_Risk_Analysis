{
 "cells": [
  {
   "cell_type": "code",
   "execution_count": null,
   "id": "11988173",
   "metadata": {},
   "outputs": [],
   "source": [
    "#17.7.2 Predict Loan Application Approval\n",
    "# Initial imports\n",
    "import pandas as pd\n",
    "from path import Path\n",
    "from sklearn import tree\n",
    "from sklearn.preprocessing import StandardScaler\n",
    "from sklearn.model_selection import train_test_split\n",
    "from sklearn.metrics import confusion_matrix, accuracy_score, classification_report\n"
   ]
  },
  {
   "cell_type": "code",
   "execution_count": null,
   "id": "ec8655ba",
   "metadata": {},
   "outputs": [],
   "source": [
    "# Loading data\n",
    "file_path = Path(\"./Resources/loans_data_encoded.csv\")\n",
    "df_loans = pd.read_csv(file_path)\n",
    "df_loans.head()"
   ]
  },
  {
   "cell_type": "code",
   "execution_count": null,
   "id": "d206e594",
   "metadata": {},
   "outputs": [],
   "source": [
    "# Define the features set.\n",
    "X = df_loans.copy()\n",
    "X = X.drop(\"bad\", axis=1)\n",
    "X.head()"
   ]
  },
  {
   "cell_type": "code",
   "execution_count": null,
   "id": "2069bcc4",
   "metadata": {},
   "outputs": [],
   "source": [
    "# Define the target set.\n",
    "y = df_loans[\"bad\"].values\n",
    "y[:5]"
   ]
  },
  {
   "cell_type": "code",
   "execution_count": null,
   "id": "1474fa2b",
   "metadata": {},
   "outputs": [],
   "source": [
    "X_train, X_test, y_train, y_test = train_test_split(X, y, random_state=78)\n"
   ]
  },
  {
   "cell_type": "code",
   "execution_count": null,
   "id": "e74fe28a",
   "metadata": {},
   "outputs": [],
   "source": [
    "# Determine the shape of our training and testing sets.\n",
    "print(X_train.shape)\n",
    "print(X_test.shape)\n",
    "print(y_train.shape)\n",
    "print(y_test.shape)"
   ]
  },
  {
   "cell_type": "code",
   "execution_count": null,
   "id": "aae1f7d8",
   "metadata": {},
   "outputs": [],
   "source": [
    "(375, 10)\n",
    "(125, 10)\n",
    "(375, 1)\n",
    "(125, 1)"
   ]
  },
  {
   "cell_type": "code",
   "execution_count": null,
   "id": "e4d569ee",
   "metadata": {},
   "outputs": [],
   "source": [
    "# Splitting into Train and Test sets into an 80/20 split.\n",
    "X_train2, X_test2, y_train2, y_test2 = train_test_split(X, y, random_state=78, train_size=0.80)\n"
   ]
  },
  {
   "cell_type": "code",
   "execution_count": null,
   "id": "7cf3c9d7",
   "metadata": {},
   "outputs": [],
   "source": [
    "# Determine the shape of our training and testing sets.\n",
    "print(X_train2.shape)\n",
    "print(X_test2.shape)\n",
    "print(y_train2.shape)\n",
    "print(y_test2.shape)"
   ]
  },
  {
   "cell_type": "code",
   "execution_count": null,
   "id": "d50241d6",
   "metadata": {},
   "outputs": [],
   "source": [
    "(400, 10)\n",
    "(100, 10)\n",
    "(400, 1)\n",
    "(100, 1)"
   ]
  },
  {
   "cell_type": "code",
   "execution_count": null,
   "id": "2691cbbe",
   "metadata": {},
   "outputs": [],
   "source": [
    "# Creating a StandardScaler instance.\n",
    "scaler = StandardScaler()\n",
    "# Fitting the Standard Scaler with the training data.\n",
    "X_scaler = scaler.fit(X_train)\n",
    "\n",
    "# Scaling the data.\n",
    "X_train_scaled = X_scaler.transform(X_train)\n",
    "X_test_scaled = X_scaler.transform(X_test)"
   ]
  },
  {
   "cell_type": "code",
   "execution_count": null,
   "id": "a1495731",
   "metadata": {},
   "outputs": [],
   "source": [
    "# Import numpy as np\n",
    "# np.mean(X_train_scaled___)\n",
    "# np.mean(X_test_scaled___)\n",
    "# np.std(X_train_scaled___)\n",
    "# np.std(X_test_scaled___)\n",
    "# Which of the following should go in the blank spaces below to compute the mean and the standard deviation of the first column of the scaled data?\n",
    "# [:,0]"
   ]
  },
  {
   "cell_type": "code",
   "execution_count": null,
   "id": "b12ae4ca",
   "metadata": {},
   "outputs": [],
   "source": [
    "# 17.7.3 Make Predictions and Evaluate Results\n",
    "# Creating the decision tree classifier instance.\n",
    "model = tree.DecisionTreeClassifier()\n",
    "# Fitting the model.\n",
    "model = model.fit(X_train_scaled, y_train)"
   ]
  },
  {
   "cell_type": "code",
   "execution_count": null,
   "id": "968bee27",
   "metadata": {},
   "outputs": [],
   "source": [
    "# Making predictions using the testing data.\n",
    "predictions = model.predict(X_test_scaled)"
   ]
  },
  {
   "cell_type": "code",
   "execution_count": null,
   "id": "95a6df76",
   "metadata": {},
   "outputs": [],
   "source": [
    "# Calculating the confusion matrix\n",
    "cm = confusion_matrix(y_test, predictions)\n",
    "\n",
    "# Create a DataFrame from the confusion matrix.\n",
    "cm_df = pd.DataFrame(\n",
    "    cm, index=[\"Actual 0\", \"Actual 1\"], columns=[\"Predicted 0\", \"Predicted 1\"])\n",
    "\n",
    "cm_df"
   ]
  },
  {
   "cell_type": "code",
   "execution_count": null,
   "id": "88d498f7",
   "metadata": {},
   "outputs": [],
   "source": [
    "# What is the recall (sensitivity) for bad loans (Actual 1)?\n",
    "# There are a total of 41 (22 + 19) bad loans. Nineteen out of 41 were classified as bad loans. \n",
    "# Therefore, the recall is 0.46 or 46%.\n"
   ]
  },
  {
   "cell_type": "code",
   "execution_count": null,
   "id": "7badc675",
   "metadata": {},
   "outputs": [],
   "source": [
    "# Calculating the accuracy score.\n",
    "acc_score = accuracy_score(y_test, predictions)\n"
   ]
  },
  {
   "cell_type": "code",
   "execution_count": null,
   "id": "4e72b4c5",
   "metadata": {},
   "outputs": [],
   "source": [
    "# (True Positives (TP) + True Negatives (TN)) / Total = (50 + 19)/125 = 0.552\n"
   ]
  },
  {
   "cell_type": "code",
   "execution_count": null,
   "id": "f4ea7a9e",
   "metadata": {},
   "outputs": [],
   "source": [
    "# Displaying results\n",
    "print(\"Confusion Matrix\")\n",
    "display(cm_df)\n",
    "print(f\"Accuracy Score : {acc_score}\")\n",
    "print(\"Classification Report\")\n",
    "print(classification_report(y_test, predictions))"
   ]
  },
  {
   "cell_type": "code",
   "execution_count": null,
   "id": "da66e1b5",
   "metadata": {},
   "outputs": [],
   "source": []
  },
  {
   "cell_type": "code",
   "execution_count": null,
   "id": "036353c6",
   "metadata": {},
   "outputs": [],
   "source": []
  }
 ],
 "metadata": {
  "kernelspec": {
   "display_name": "Python 3 (ipykernel)",
   "language": "python",
   "name": "python3"
  },
  "language_info": {
   "codemirror_mode": {
    "name": "ipython",
    "version": 3
   },
   "file_extension": ".py",
   "mimetype": "text/x-python",
   "name": "python",
   "nbconvert_exporter": "python",
   "pygments_lexer": "ipython3",
   "version": "3.7.11"
  }
 },
 "nbformat": 4,
 "nbformat_minor": 5
}
